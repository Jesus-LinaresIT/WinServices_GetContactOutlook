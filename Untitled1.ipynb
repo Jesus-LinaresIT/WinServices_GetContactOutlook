{
 "cells": [
  {
   "cell_type": "code",
   "execution_count": 1,
   "metadata": {},
   "outputs": [
    {
     "ename": "com_error",
     "evalue": "(-2147352567, 'Exception occurred.', (4096, 'Microsoft Outlook', 'Error en esta operación. No se encontró un objeto.', None, 0, -2147352567), None)",
     "output_type": "error",
     "traceback": [
      "\u001b[1;31m---------------------------------------------------------------------------\u001b[0m",
      "\u001b[1;31mcom_error\u001b[0m                                 Traceback (most recent call last)",
      "\u001b[1;32m<ipython-input-1-6e9ce5f423b3>\u001b[0m in \u001b[0;36m<module>\u001b[1;34m\u001b[0m\n\u001b[0;32m      5\u001b[0m \u001b[1;31m# Outlook\u001b[0m\u001b[1;33m\u001b[0m\u001b[1;33m\u001b[0m\u001b[1;33m\u001b[0m\u001b[0m\n\u001b[0;32m      6\u001b[0m \u001b[0moutApp\u001b[0m \u001b[1;33m=\u001b[0m \u001b[0mwin32com\u001b[0m\u001b[1;33m.\u001b[0m\u001b[0mclient\u001b[0m\u001b[1;33m.\u001b[0m\u001b[0mgencache\u001b[0m\u001b[1;33m.\u001b[0m\u001b[0mEnsureDispatch\u001b[0m\u001b[1;33m(\u001b[0m\u001b[1;34m\"Outlook.Application\"\u001b[0m\u001b[1;33m)\u001b[0m\u001b[1;33m\u001b[0m\u001b[1;33m\u001b[0m\u001b[0m\n\u001b[1;32m----> 7\u001b[1;33m \u001b[0moutGAL\u001b[0m \u001b[1;33m=\u001b[0m \u001b[0moutApp\u001b[0m\u001b[1;33m.\u001b[0m\u001b[0mSession\u001b[0m\u001b[1;33m.\u001b[0m\u001b[0mGetGlobalAddressList\u001b[0m\u001b[1;33m(\u001b[0m\u001b[1;33m)\u001b[0m\u001b[1;33m\u001b[0m\u001b[1;33m\u001b[0m\u001b[0m\n\u001b[0m\u001b[0;32m      8\u001b[0m \u001b[0mentries\u001b[0m \u001b[1;33m=\u001b[0m \u001b[0moutGAL\u001b[0m\u001b[1;33m.\u001b[0m\u001b[0mAddressEntries\u001b[0m\u001b[1;33m\u001b[0m\u001b[1;33m\u001b[0m\u001b[0m\n\u001b[0;32m      9\u001b[0m \u001b[1;33m\u001b[0m\u001b[0m\n",
      "\u001b[1;32m~\\AppData\\Local\\Temp\\gen_py\\3.7\\00062FFF-0000-0000-C000-000000000046x0x9x6\\_NameSpace.py\u001b[0m in \u001b[0;36mGetGlobalAddressList\u001b[1;34m(self)\u001b[0m\n\u001b[0;32m    101\u001b[0m         \u001b[1;31m# Result is of type AddressList\u001b[0m\u001b[1;33m\u001b[0m\u001b[1;33m\u001b[0m\u001b[1;33m\u001b[0m\u001b[0m\n\u001b[0;32m    102\u001b[0m         \u001b[1;32mdef\u001b[0m \u001b[0mGetGlobalAddressList\u001b[0m\u001b[1;33m(\u001b[0m\u001b[0mself\u001b[0m\u001b[1;33m)\u001b[0m\u001b[1;33m:\u001b[0m\u001b[1;33m\u001b[0m\u001b[1;33m\u001b[0m\u001b[0m\n\u001b[1;32m--> 103\u001b[1;33m                 \u001b[0mret\u001b[0m \u001b[1;33m=\u001b[0m \u001b[0mself\u001b[0m\u001b[1;33m.\u001b[0m\u001b[0m_oleobj_\u001b[0m\u001b[1;33m.\u001b[0m\u001b[0mInvokeTypes\u001b[0m\u001b[1;33m(\u001b[0m\u001b[1;36m64261\u001b[0m\u001b[1;33m,\u001b[0m \u001b[0mLCID\u001b[0m\u001b[1;33m,\u001b[0m \u001b[1;36m1\u001b[0m\u001b[1;33m,\u001b[0m \u001b[1;33m(\u001b[0m\u001b[1;36m9\u001b[0m\u001b[1;33m,\u001b[0m \u001b[1;36m0\u001b[0m\u001b[1;33m)\u001b[0m\u001b[1;33m,\u001b[0m \u001b[1;33m(\u001b[0m\u001b[1;33m)\u001b[0m\u001b[1;33m,\u001b[0m\u001b[1;33m)\u001b[0m\u001b[1;33m\u001b[0m\u001b[1;33m\u001b[0m\u001b[0m\n\u001b[0m\u001b[0;32m    104\u001b[0m                 \u001b[1;32mif\u001b[0m \u001b[0mret\u001b[0m \u001b[1;32mis\u001b[0m \u001b[1;32mnot\u001b[0m \u001b[1;32mNone\u001b[0m\u001b[1;33m:\u001b[0m\u001b[1;33m\u001b[0m\u001b[1;33m\u001b[0m\u001b[0m\n\u001b[0;32m    105\u001b[0m                         \u001b[0mret\u001b[0m \u001b[1;33m=\u001b[0m \u001b[0mDispatch\u001b[0m\u001b[1;33m(\u001b[0m\u001b[0mret\u001b[0m\u001b[1;33m,\u001b[0m \u001b[1;34m'GetGlobalAddressList'\u001b[0m\u001b[1;33m,\u001b[0m \u001b[1;34m'{00063049-0000-0000-C000-000000000046}'\u001b[0m\u001b[1;33m)\u001b[0m\u001b[1;33m\u001b[0m\u001b[1;33m\u001b[0m\u001b[0m\n",
      "\u001b[1;31mcom_error\u001b[0m: (-2147352567, 'Exception occurred.', (4096, 'Microsoft Outlook', 'Error en esta operación. No se encontró un objeto.', None, 0, -2147352567), None)"
     ]
    }
   ],
   "source": [
    "import win32com.client\n",
    "import csv\n",
    "from datetime import datetime\n",
    "\n",
    "# Outlook\n",
    "outApp = win32com.client.gencache.EnsureDispatch(\"Outlook.Application\")\n",
    "outGAL = outApp.Session.GetGlobalAddressList()\n",
    "entries = outGAL.AddressEntries\n",
    "\n",
    "# Create a dateID\n",
    "date_id = (datetime.today()).strftime('%Y%m%d')\n",
    "\n",
    "# Create empty list to store results\n",
    "data_set = list()\n",
    "\n",
    "# Iterate through Outlook address entries\n",
    "for entry in entries:\n",
    "    if entry.Type == \"EX\":\n",
    "        user = entry.GetExchangeUser()\n",
    "        if user is not None:\n",
    "            if len(user.FirstName) > 0 and len(user.LastName) > 0:\n",
    "                row = list()\n",
    "                row.append(date_id)\n",
    "                row.append(user.Name)\n",
    "                row.append(user.FirstName)\n",
    "                row.append(user.LastName)\n",
    "                row.append(user.JobTitle)\n",
    "                row.append(user.City)\n",
    "                row.append(user.PrimarySmtpAddress)\n",
    "                try:\n",
    "                    row.append(entry.PropertyAccessor.GetProperty(\"http://schemas.microsoft.com/mapi/proptag/0x3a26001e\"))\n",
    "                except:\n",
    "                    row.append('None')\n",
    "                \n",
    "                # Store the user details in data_set\n",
    "                data_set.append(row)\n",
    "\n",
    "# Print out the result to a csv with headers\n",
    "with open(date_id + 'outlookGALresults.csv', 'w', newline='', encoding='utf-8') as csv_file:\n",
    "    headers = ['DateID', 'DisplayName', 'FirstName', 'LastName', 'JobTitle', 'City', 'PrimarySmtp', 'Country']\n",
    "    wr = csv.writer(csv_file, delimiter=',')\n",
    "    wr.writerow(headers)\n",
    "    for line in data_set:\n",
    "        wr.writerow(line)\n"
   ]
  },
  {
   "cell_type": "code",
   "execution_count": null,
   "metadata": {},
   "outputs": [],
   "source": []
  }
 ],
 "metadata": {
  "kernelspec": {
   "display_name": "Python 3",
   "language": "python",
   "name": "python3"
  },
  "language_info": {
   "codemirror_mode": {
    "name": "ipython",
    "version": 3
   },
   "file_extension": ".py",
   "mimetype": "text/x-python",
   "name": "python",
   "nbconvert_exporter": "python",
   "pygments_lexer": "ipython3",
   "version": "3.7.6"
  }
 },
 "nbformat": 4,
 "nbformat_minor": 4
}
